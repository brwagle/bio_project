{
 "cells": [
  {
   "cell_type": "code",
   "execution_count": 1,
   "metadata": {
    "collapsed": false
   },
   "outputs": [
    {
     "name": "stdout",
     "output_type": "stream",
     "text": [
      "Hello, world\n"
     ]
    }
   ],
   "source": [
    "print(\"Hello, world\")"
   ]
  },
  {
   "cell_type": "code",
   "execution_count": 2,
   "metadata": {
    "collapsed": false
   },
   "outputs": [
    {
     "name": "stdout",
     "output_type": "stream",
     "text": [
      "Hello, world\n"
     ]
    }
   ],
   "source": [
    "print('Hello, world')"
   ]
  },
  {
   "cell_type": "code",
   "execution_count": 3,
   "metadata": {
    "collapsed": false
   },
   "outputs": [
    {
     "name": "stdout",
     "output_type": "stream",
     "text": [
      "She said, 'Hello world'\n"
     ]
    }
   ],
   "source": [
    "print(\"She said, 'Hello world'\")"
   ]
  },
  {
   "cell_type": "code",
   "execution_count": 4,
   "metadata": {
    "collapsed": false
   },
   "outputs": [
    {
     "name": "stdout",
     "output_type": "stream",
     "text": [
      "comments are very useful!\n"
     ]
    }
   ],
   "source": [
    "#this is a comment, it will be ignored by the computer\n",
    "print(\"comments are very useful!\")"
   ]
  },
  {
   "cell_type": "code",
   "execution_count": 6,
   "metadata": {
    "collapsed": false
   },
   "outputs": [
    {
     "name": "stdout",
     "output_type": "stream",
     "text": [
      "hello\n",
      "world\n"
     ]
    }
   ],
   "source": [
    "#how to include a new line in the middle of a string\n",
    "print(\"hello\\nworld\")"
   ]
  },
  {
   "cell_type": "code",
   "execution_count": 7,
   "metadata": {
    "collapsed": false
   },
   "outputs": [
    {
     "name": "stdout",
     "output_type": "stream",
     "text": [
      "ATGCTA\n"
     ]
    }
   ],
   "source": [
    "#store a short DNA sequence in the variable my_dna\n",
    "my_dna='ATGCTA'\n",
    "#now print the DNA sequence\n",
    "print(my_dna)"
   ]
  },
  {
   "cell_type": "code",
   "execution_count": 8,
   "metadata": {
    "collapsed": false
   },
   "outputs": [
    {
     "name": "stdout",
     "output_type": "stream",
     "text": [
      "AATTGGCC\n"
     ]
    }
   ],
   "source": [
    "my_dna=\"AATT\"+\"GGCC\"\n",
    "print(my_dna)"
   ]
  },
  {
   "cell_type": "code",
   "execution_count": 9,
   "metadata": {
    "collapsed": false
   },
   "outputs": [
    {
     "name": "stdout",
     "output_type": "stream",
     "text": [
      "AAAATGC\n"
     ]
    }
   ],
   "source": [
    "#concatenation\n",
    "upstream=\"AAA\"\n",
    "my_dna=upstream+\"ATGC\"\n",
    "print(my_dna)"
   ]
  },
  {
   "cell_type": "code",
   "execution_count": 10,
   "metadata": {
    "collapsed": false
   },
   "outputs": [
    {
     "name": "stdout",
     "output_type": "stream",
     "text": [
      "4\n"
     ]
    }
   ],
   "source": [
    "#finding the length of a string\n",
    "len(\"ATGC\")\n",
    "dna_length=len(\"AGTC\")\n",
    "print(dna_length)"
   ]
  },
  {
   "cell_type": "code",
   "execution_count": 14,
   "metadata": {
    "collapsed": false
   },
   "outputs": [
    {
     "name": "stdout",
     "output_type": "stream",
     "text": [
      "The length of the DNA sequence is 8\n"
     ]
    }
   ],
   "source": [
    "#store the DNA sequence in a variable\n",
    "my_dna=\"ATBCGAGT\"\n",
    "#calculate the lenght of the sequence and store it in a variable\n",
    "dna_length=len(my_dna)\n",
    "#print a message telling us the DNA sequence length\n",
    "print(\"The length of the DNA sequence is \"+ str(dna_length))"
   ]
  },
  {
   "cell_type": "code",
   "execution_count": 15,
   "metadata": {
    "collapsed": false
   },
   "outputs": [
    {
     "name": "stdout",
     "output_type": "stream",
     "text": [
      "atgc\n"
     ]
    }
   ],
   "source": [
    "#printing in a lower case\n",
    "my_dna=\"ATGC\"\n",
    "print(my_dna.lower())"
   ]
  },
  {
   "cell_type": "code",
   "execution_count": 16,
   "metadata": {
    "collapsed": false
   },
   "outputs": [
    {
     "name": "stdout",
     "output_type": "stream",
     "text": [
      "before: ATGC\n",
      "after: ATGC\n"
     ]
    }
   ],
   "source": [
    "my_dna=\"ATGC\"\n",
    "#print the variable\n",
    "print(\"before: \"+my_dna)\n",
    "#run the lower method and store the result\n",
    "lowercase_dna=my_dna.lower()\n",
    "#print the variable again\n",
    "print(\"after: \"+my_dna)"
   ]
  },
  {
   "cell_type": "code",
   "execution_count": 17,
   "metadata": {
    "collapsed": false
   },
   "outputs": [
    {
     "name": "stdout",
     "output_type": "stream",
     "text": [
      "ylspadktny\n",
      "ymtpadktnv\n",
      "vlspadktnv\n"
     ]
    }
   ],
   "source": [
    "#Replacement\n",
    "protein=\"vlspadktnv\"\n",
    "#replace valine with tyrosine\n",
    "print(protein.replace(\"v\",\"y\"))\n",
    "#we can replace more than one character\n",
    "print(protein.replace(\"vls\",\"ymt\"))\n",
    "#the original variable is not affected\n",
    "print(protein)"
   ]
  },
  {
   "cell_type": "code",
   "execution_count": 19,
   "metadata": {
    "collapsed": false
   },
   "outputs": [
    {
     "name": "stdout",
     "output_type": "stream",
     "text": [
      "pa\n",
      "vlspad\n"
     ]
    }
   ],
   "source": [
    "#Extracting part of a string\n",
    "protein=\"vlspadktnv\"\n",
    "#print positions three to five\n",
    "print(protein[3:5])\n",
    "#print positions start at zero, not one\n",
    "print(protein[0:6])"
   ]
  },
  {
   "cell_type": "code",
   "execution_count": 20,
   "metadata": {
    "collapsed": false
   },
   "outputs": [
    {
     "name": "stdout",
     "output_type": "stream",
     "text": [
      "valine: 2\n",
      "lsp: 1\n",
      "tryptophans: 0\n"
     ]
    }
   ],
   "source": [
    "#counting and findings substrings\n",
    "protein=\"vlspadktnv\"\n",
    "valine_count=protein.count('v')\n",
    "lsp_count=protein.count('lsp')\n",
    "tryptophan_count=protein.count('w')\n",
    "\n",
    "#now print the counts\n",
    "print(\"valine: \"+ str (valine_count))\n",
    "print(\"lsp: \"+ str (lsp_count))\n",
    "print(\"tryptophans: \"+ str(tryptophan_count))"
   ]
  },
  {
   "cell_type": "code",
   "execution_count": 21,
   "metadata": {
    "collapsed": false
   },
   "outputs": [
    {
     "name": "stdout",
     "output_type": "stream",
     "text": [
      "3\n",
      "6\n",
      "-1\n"
     ]
    }
   ],
   "source": [
    "#indexing, python start counting from zero and not from 1\n",
    "protein=\"vlspadktnv\"\n",
    "print(str(protein.find('p')))\n",
    "print(str(protein.find('kt')))\n",
    "print(str(protein.find('w')))"
   ]
  },
  {
   "cell_type": "code",
   "execution_count": 7,
   "metadata": {
    "collapsed": false
   },
   "outputs": [
    {
     "name": "stdout",
     "output_type": "stream",
     "text": [
      "The AT content of the given sequence is: 0.6851851851851852\n"
     ]
    }
   ],
   "source": [
    "#calculating the AT content\n",
    "dna_seq=\"ACTGATCGATTACGTATAGTATTTGCTATCATACATATATATCGATGCGTTCAT\"\n",
    "\n",
    "#lenght of sequence is \n",
    "lenght=len(dna_seq)\n",
    "\n",
    "#counting the number of A and T\n",
    "a_count=dna_seq.count('A')\n",
    "t_count=dna_seq.count('T')\n",
    "\n",
    "#calculating the content of AT\n",
    "at_content=(a_count + t_count) / len(dna_seq)\n",
    "\n",
    "print(\"The AT content of the given sequence is: \"+ str(at_content))\n"
   ]
  },
  {
   "cell_type": "code",
   "execution_count": 8,
   "metadata": {
    "collapsed": false
   },
   "outputs": [
    {
     "name": "stdout",
     "output_type": "stream",
     "text": [
      "tgactagctaatgcatatcataaacgatagtatgtatatatagctacgcaagta\n",
      "TGACTAGCTAATGCATATCATAAACGATAGTATGTATATATAGCTACGCAAGTA\n"
     ]
    }
   ],
   "source": [
    "#To find out complimenting DNA sequences\n",
    "dna_seq=\"ACTGATCGATTACGTATAGTATTTGCTATCATACATATATATCGATGCGTTCAT\"\n",
    "\n",
    "#replace A with t\n",
    "replacement1=dna_seq.replace('A', 't')\n",
    "\n",
    "#replace T with a\n",
    "replacement2=replacement1.replace('T', 'a')\n",
    "\n",
    "#replace G with c\n",
    "replacement3=replacement2.replace('G', 'c')\n",
    "\n",
    "#replace C with g\n",
    "replacement4=replacement3.replace('C', 'g')\n",
    "\n",
    "print(replacement4)\n",
    "\n",
    "#changing to upper case all\n",
    "print(replacement4.upper())"
   ]
  },
  {
   "cell_type": "code",
   "execution_count": 17,
   "metadata": {
    "collapsed": false
   },
   "outputs": [
    {
     "name": "stdout",
     "output_type": "stream",
     "text": [
      "The length of the one fragment is 21\n",
      "The length of the two fragment is 33\n"
     ]
    }
   ],
   "source": [
    "#finding the length of fragment when restriction enzyme ECORI digest the following sequence\n",
    "\n",
    "dna_seq=\"CTGATCGATTACGTATAGTAGAATTCTATCATACATATATATCGATGCGTTCAT\"\n",
    "\n",
    "fragment1 = dna_seq.find(\"GAATTC\") + 1\n",
    "fragment2=len(dna_seq) - fragment1\n",
    "\n",
    "print(\"The length of the one fragment is \" + str(fragment1))\n",
    "print(\"The length of the two fragment is \" + str(fragment2))"
   ]
  },
  {
   "cell_type": "code",
   "execution_count": null,
   "metadata": {
    "collapsed": true
   },
   "outputs": [],
   "source": []
  }
 ],
 "metadata": {
  "kernelspec": {
   "display_name": "Python 3",
   "language": "python",
   "name": "python3"
  },
  "language_info": {
   "codemirror_mode": {
    "name": "ipython",
    "version": 3
   },
   "file_extension": ".py",
   "mimetype": "text/x-python",
   "name": "python",
   "nbconvert_exporter": "python",
   "pygments_lexer": "ipython3",
   "version": "3.6.0"
  }
 },
 "nbformat": 4,
 "nbformat_minor": 2
}
